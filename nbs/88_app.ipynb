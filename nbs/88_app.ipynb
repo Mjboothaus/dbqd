{
 "cells": [
  {
   "cell_type": "code",
   "execution_count": null,
   "metadata": {},
   "outputs": [],
   "source": [
    "%load_ext autoreload\n",
    "%autoreload 2"
   ]
  },
  {
   "cell_type": "code",
   "execution_count": null,
   "metadata": {
    "hide_input": true
   },
   "outputs": [],
   "source": [
    "from nbdev import *"
   ]
  },
  {
   "cell_type": "code",
   "execution_count": null,
   "metadata": {},
   "outputs": [
    {
     "name": "stdout",
     "output_type": "stream",
     "text": [
      "Cells will be exported to dbqed.app,\n",
      "unless a different module is specified after an export flag: `%nbdev_export special.module`\n"
     ]
    }
   ],
   "source": [
    "%nbdev_default_export app"
   ]
  },
  {
   "cell_type": "markdown",
   "metadata": {},
   "source": [
    "# DataBooth Qualify Explore Data (DBQED) app\n",
    "\n",
    "> Simple Streamlit app which allows for choosing a simple data source (e.g. .csv or .xlsx) and load \n",
    "> into data qualification loop using Pandas Profiling and Great Expectations libraries."
   ]
  },
  {
   "cell_type": "code",
   "execution_count": null,
   "metadata": {},
   "outputs": [],
   "source": [
    "%nbdev_hide\n",
    "from nbdev.showdoc import *\n",
    "from fastcore.test import *"
   ]
  },
  {
   "cell_type": "code",
   "execution_count": null,
   "metadata": {},
   "outputs": [],
   "source": [
    "%nbdev_export\n",
    "import numpy as np\n",
    "import pandas as pd\n",
    "import datetime as dt\n",
    "import streamlit as st\n",
    "\n",
    "# TODO: Add local project imports\n",
    "\n",
    "from pandas_profiling import ProfileReport\n",
    "from streamlit_pandas_profiling import st_profile_report"
   ]
  },
  {
   "cell_type": "code",
   "execution_count": null,
   "metadata": {},
   "outputs": [],
   "source": [
    "%nbdev_export\n",
    "AUTHOR_INFO = 'AUTHOR: [Michael J. Booth](https://about.me/mjboothaus)'\n",
    "APP_NAME = 'DataBooth: Qualify Explore Data app'"
   ]
  },
  {
   "cell_type": "code",
   "execution_count": null,
   "metadata": {},
   "outputs": [],
   "source": [
    "%nbdev_export\n",
    "class SideBar:\n",
    "    datasource = 'To be defined'\n",
    "    datasize = 0   # look to calculate this (in MB?)\n",
    "    author = AUTHOR_INFO\n",
    "    title = 'Data details...'\n",
    "    data_local = False\n",
    "    selected_data = None\n",
    "    calc_corr = False\n",
    "    data_filename = ''\n",
    "\n",
    "\n",
    "def create_sidebar():\n",
    "    sb = SideBar()\n",
    "    st.sidebar.markdown(sb.author)\n",
    "    st.sidebar.markdown(sb.datasource)\n",
    "    st.sidebar.info(sb.title)\n",
    "    st.sidebar.markdown('Datasize: ' + str(sb.datasize))\n",
    "    #TODO: Add file chooser\n",
    "    #sb.calc_corr = st.sidebar.checkbox('Calculate correlations?', value=False)\n",
    "    data_filename = st.file_uploader(label='Choose data file: ', type=['.csv', '.xls', '.xlsx'])\n",
    "    filename, file_extension = os.path.splitext('/path/to/somefile.ext')\n",
    "    return sb\n",
    "\n",
    "\n",
    "def app_mainscreen(df, pr, APP_NAME):\n",
    "    st.title(APP_NAME)\n",
    "\n",
    "    st.write(df)\n",
    "    st.header('Data Profile:')\n",
    "    st_profile_report(pr)\n",
    "\n",
    "    return df"
   ]
  },
  {
   "cell_type": "code",
   "execution_count": null,
   "metadata": {},
   "outputs": [],
   "source": [
    "%nbdev_export\n",
    "def notebook_mainscreen(df, pr, APP_NAME):\n",
    "    print(APP_NAME)\n",
    "\n",
    "\n",
    "    # Dataframe / Profiling example\n",
    "\n",
    "    print(df.head(5))\n",
    "    print('Data Profile:')\n",
    "    pr"
   ]
  },
  {
   "cell_type": "code",
   "execution_count": null,
   "metadata": {},
   "outputs": [
    {
     "ename": "NameError",
     "evalue": "name 'df' is not defined",
     "output_type": "error",
     "traceback": [
      "\u001b[0;31m---------------------------------------------------------------------------\u001b[0m",
      "\u001b[0;31mNameError\u001b[0m                                 Traceback (most recent call last)",
      "\u001b[0;32m<ipython-input-9-ed87f9dc108e>\u001b[0m in \u001b[0;36m<module>\u001b[0;34m\u001b[0m\n\u001b[1;32m      7\u001b[0m     \u001b[0mpr\u001b[0m \u001b[0;34m=\u001b[0m \u001b[0mProfileReport\u001b[0m\u001b[0;34m(\u001b[0m\u001b[0mdf\u001b[0m\u001b[0;34m,\u001b[0m \u001b[0mexplorative\u001b[0m\u001b[0;34m=\u001b[0m\u001b[0;32mTrue\u001b[0m\u001b[0;34m)\u001b[0m\u001b[0;34m\u001b[0m\u001b[0;34m\u001b[0m\u001b[0m\n\u001b[1;32m      8\u001b[0m \u001b[0;32melse\u001b[0m\u001b[0;34m:\u001b[0m\u001b[0;34m\u001b[0m\u001b[0;34m\u001b[0m\u001b[0m\n\u001b[0;32m----> 9\u001b[0;31m     \u001b[0mpr\u001b[0m \u001b[0;34m=\u001b[0m \u001b[0mProfileReport\u001b[0m\u001b[0;34m(\u001b[0m\u001b[0mdf\u001b[0m\u001b[0;34m,\u001b[0m \u001b[0mexplorative\u001b[0m\u001b[0;34m=\u001b[0m\u001b[0;32mTrue\u001b[0m\u001b[0;34m,\u001b[0m \u001b[0mcorrelations\u001b[0m\u001b[0;34m=\u001b[0m\u001b[0;32mNone\u001b[0m\u001b[0;34m)\u001b[0m\u001b[0;34m\u001b[0m\u001b[0;34m\u001b[0m\u001b[0m\n\u001b[0m\u001b[1;32m     10\u001b[0m \u001b[0;34m\u001b[0m\u001b[0m\n\u001b[1;32m     11\u001b[0m \u001b[0;34m\u001b[0m\u001b[0m\n",
      "\u001b[0;31mNameError\u001b[0m: name 'df' is not defined"
     ]
    }
   ],
   "source": [
    "%nbdev_export\n",
    "sb = create_sidebar()\n",
    "\n",
    "#TODO: Sort data load - df = datapipe.load_and_cache_raw_data()\n",
    "\n",
    "#TODO: Work out what the file extension is and load via Pandas try/except - look at including Returns library?\n",
    "\n",
    "\n",
    "if sb.calc_corr:\n",
    "    pr = ProfileReport(df, explorative=True)\n",
    "else:\n",
    "    pr = ProfileReport(df, explorative=True, correlations=None)\n",
    "\n",
    "\n",
    "if core.in_notebook():\n",
    "    notebook_mainscreen(df, pr, APP_NAME)\n",
    "else:\n",
    "    df = app_mainscreen(df, pr, APP_NAME)"
   ]
  },
  {
   "cell_type": "code",
   "execution_count": null,
   "metadata": {},
   "outputs": [],
   "source": [
    "# TODOs:\n",
    "#\n",
    "# def get_or_used_cached_data(datasource):\n",
    "#\n",
    "# try to use config or similar file (check nbdev options) for #DEFINEs or equivalent e.g. APP_NAME, DATA_SOURCE\n",
    "# def create_sidebar()\n",
    "#\n",
    "# Design - put all \"analytics\" code into the nbdev framework - decouple GUI from analytics as far as possible\n",
    "#\n",
    "# try to integrate mypy\n",
    "#\n",
    "# add in Great Expectations (again via nbdev)\n",
    "#\n",
    "# Start to use GitHub pull requests for features / functionality"
   ]
  },
  {
   "cell_type": "code",
   "execution_count": null,
   "metadata": {},
   "outputs": [
    {
     "name": "stdout",
     "output_type": "stream",
     "text": [
      "Converted 00_core.ipynb.\n",
      "Converted 88_app.ipynb.\n",
      "Converted index.ipynb.\n"
     ]
    }
   ],
   "source": [
    "notebook2script()"
   ]
  },
  {
   "cell_type": "code",
   "execution_count": null,
   "metadata": {},
   "outputs": [],
   "source": []
  }
 ],
 "metadata": {
  "kernelspec": {
   "display_name": ".venv_titanic-nbdev",
   "language": "python",
   "name": ".venv_titanic-nbdev"
  }
 },
 "nbformat": 4,
 "nbformat_minor": 2
}
